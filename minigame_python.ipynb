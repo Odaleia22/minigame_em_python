{
  "nbformat": 4,
  "nbformat_minor": 0,
  "metadata": {
    "colab": {
      "provenance": [],
      "authorship_tag": "ABX9TyN5Q2hbnPGoYMd1TSuEQvuq",
      "include_colab_link": true
    },
    "kernelspec": {
      "name": "python3",
      "display_name": "Python 3"
    },
    "language_info": {
      "name": "python"
    }
  },
  "cells": [
    {
      "cell_type": "markdown",
      "metadata": {
        "id": "view-in-github",
        "colab_type": "text"
      },
      "source": [
        "<a href=\"https://colab.research.google.com/github/Odaleia22/minigame_em_python/blob/main/minigame_python.ipynb\" target=\"_parent\"><img src=\"https://colab.research.google.com/assets/colab-badge.svg\" alt=\"Open In Colab\"/></a>"
      ]
    },
    {
      "cell_type": "code",
      "source": [
        "print(\"*********************************\")\n",
        "print(\"Bem vindo ao jogo de Adivinhação!\")\n",
        "print(\"*********************************\")\n"
      ],
      "metadata": {
        "colab": {
          "base_uri": "https://localhost:8080/"
        },
        "id": "u2IG6HpHbJbd",
        "outputId": "869dafd0-6d55-4264-ab86-05703d7dda9a"
      },
      "execution_count": 3,
      "outputs": [
        {
          "output_type": "stream",
          "name": "stdout",
          "text": [
            "*********************************\n",
            "Bem vindo ao jogo de Adivinhação!\n",
            "*********************************\n"
          ]
        }
      ]
    },
    {
      "cell_type": "code",
      "source": [
        "import random\n",
        "numero_secreto = random.randint(1, 9)\n"
      ],
      "metadata": {
        "id": "h8uSt-EUbJxp"
      },
      "execution_count": 4,
      "outputs": []
    },
    {
      "cell_type": "code",
      "source": [
        "chute_str = input(\"Digite o seu número: \")\n",
        "print(\"Você digitou: \", chute_str)\n",
        "chute = int(chute_str)\n"
      ],
      "metadata": {
        "colab": {
          "base_uri": "https://localhost:8080/"
        },
        "id": "ZDfcWx8ybJ9j",
        "outputId": "d3f3eae1-a952-4bca-dc96-6e2b933785f7"
      },
      "execution_count": 5,
      "outputs": [
        {
          "output_type": "stream",
          "name": "stdout",
          "text": [
            "Digite o seu número: 5\n",
            "Você digitou:  5\n"
          ]
        }
      ]
    },
    {
      "cell_type": "code",
      "source": [
        "if (numero_secreto == chute):\n",
        "    print(\"Você acertou!\")\n",
        "else:\n",
        "    print(\"Você errou! O número secreto é:\", numero_secreto)\n",
        "\n",
        "print(\"Fim do jogo\")"
      ],
      "metadata": {
        "colab": {
          "base_uri": "https://localhost:8080/"
        },
        "id": "keoNuIqebbsD",
        "outputId": "b5dad52d-90fd-4eba-e77b-aa325f316cfd"
      },
      "execution_count": 8,
      "outputs": [
        {
          "output_type": "stream",
          "name": "stdout",
          "text": [
            "Você errou! O número secreto é: 8\n",
            "Fim do jogo\n"
          ]
        }
      ]
    }
  ]
}